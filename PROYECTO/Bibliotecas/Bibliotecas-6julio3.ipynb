{
  "cells": [
    {
      "cell_type": "markdown",
      "metadata": {
        "id": "7bHJf36-uTuv"
      },
      "source": [
        "# **NumPy**\n"
      ]
    },
    {
      "cell_type": "code",
      "execution_count": 1,
      "metadata": {
        "colab": {
          "base_uri": "https://localhost:8080/"
        },
        "id": "9iVRDkAm-m9O",
        "outputId": "3e204403-cd07-4273-e5a9-9960e3bb91ad"
      },
      "outputs": [
        {
          "name": "stdout",
          "output_type": "stream",
          "text": [
            "Requirement already satisfied: numpy in c:\\users\\dell\\documents\\proyecto\\.venv\\lib\\site-packages (1.25.2)\n",
            "Note: you may need to restart the kernel to use updated packages.\n"
          ]
        }
      ],
      "source": [
        "pip install numpy"
      ]
    },
    {
      "cell_type": "code",
      "execution_count": 2,
      "metadata": {
        "id": "TF3j84CRq9kJ"
      },
      "outputs": [],
      "source": [
        "import numpy as np"
      ]
    },
    {
      "cell_type": "markdown",
      "metadata": {
        "id": "CIRgtX798s5z"
      },
      "source": [
        "### ***Arreglos***\n"
      ]
    },
    {
      "cell_type": "code",
      "execution_count": 3,
      "metadata": {
        "colab": {
          "base_uri": "https://localhost:8080/"
        },
        "id": "kE6M_tbI9j6h",
        "outputId": "2bac3258-e2d5-49d6-b49e-e90babc7726f"
      },
      "outputs": [
        {
          "name": "stdout",
          "output_type": "stream",
          "text": [
            "[1 2 3]\n"
          ]
        }
      ],
      "source": [
        "arr = np.array([1,2,3])\n",
        "print(arr)"
      ]
    },
    {
      "cell_type": "code",
      "execution_count": 4,
      "metadata": {
        "colab": {
          "base_uri": "https://localhost:8080/"
        },
        "id": "UvqVOD4H_F8C",
        "outputId": "f60e87b0-bda8-4f6a-d7ad-04c8aa7511a8"
      },
      "outputs": [
        {
          "name": "stdout",
          "output_type": "stream",
          "text": [
            "[[1 2 3]\n",
            " [4 5 6]]\n"
          ]
        }
      ],
      "source": [
        "arr = np.array(([1,2,3],[4,5,6]))\n",
        "print(arr)"
      ]
    },
    {
      "cell_type": "code",
      "execution_count": 5,
      "metadata": {
        "colab": {
          "base_uri": "https://localhost:8080/"
        },
        "id": "Yx0r962T_W5q",
        "outputId": "0256128b-cacd-44c2-fa44-6f882fb25bb6"
      },
      "outputs": [
        {
          "name": "stdout",
          "output_type": "stream",
          "text": [
            "[[1 2 3]\n",
            " [4 5 6]\n",
            " [7 8 9]]\n"
          ]
        }
      ],
      "source": [
        "arr = np.array(([1,2,3],[4,5,6],[7,8,9]))\n",
        "print(arr)"
      ]
    },
    {
      "cell_type": "code",
      "execution_count": 6,
      "metadata": {
        "colab": {
          "base_uri": "https://localhost:8080/"
        },
        "id": "o-qJIpBa_dz0",
        "outputId": "202481f9-8339-41f7-8db0-4d6a0450642d"
      },
      "outputs": [
        {
          "name": "stdout",
          "output_type": "stream",
          "text": [
            "3\n",
            "[[[1 2 3 4 5 6]]]\n",
            "[[1 2 3 4 5 6]]\n",
            "[1 2 3 4 5 6]\n",
            "1\n"
          ]
        }
      ],
      "source": [
        "arr=np.array([1,2,3,4,5,6] , ndmin=3)\n",
        "print(arr.ndim)\n",
        "print(arr)\n",
        "print(arr[0])\n",
        "print(arr[0][0])\n",
        "print(arr[0][0][0])"
      ]
    },
    {
      "cell_type": "code",
      "execution_count": 7,
      "metadata": {
        "colab": {
          "base_uri": "https://localhost:8080/"
        },
        "id": "iHdJV8fgAZah",
        "outputId": "a1a5c9ff-a272-474e-9c8c-3bd2a5045918"
      },
      "outputs": [
        {
          "name": "stdout",
          "output_type": "stream",
          "text": [
            "[[0. 0.]\n",
            " [0. 0.]]\n"
          ]
        }
      ],
      "source": [
        "arr = np.zeros([2,2])\n",
        "print(arr)"
      ]
    },
    {
      "cell_type": "code",
      "execution_count": 8,
      "metadata": {
        "colab": {
          "base_uri": "https://localhost:8080/"
        },
        "id": "qtOb1haLAiXf",
        "outputId": "87f73bc5-c4e2-43d8-95d1-f59f0ebcf23c"
      },
      "outputs": [
        {
          "name": "stdout",
          "output_type": "stream",
          "text": [
            "[[1. 1. 1.]\n",
            " [1. 1. 1.]\n",
            " [1. 1. 1.]]\n"
          ]
        }
      ],
      "source": [
        "arr = np.ones([3,3])\n",
        "print(arr)"
      ]
    },
    {
      "cell_type": "code",
      "execution_count": 9,
      "metadata": {
        "id": "7nLLyPucAqA1"
      },
      "outputs": [
        {
          "name": "stdout",
          "output_type": "stream",
          "text": [
            "[[1. 1. 1.]\n",
            " [1. 1. 1.]\n",
            " [1. 1. 1.]]\n"
          ]
        }
      ],
      "source": [
        "arr = np.ones((3,3))\n",
        "print(arr)"
      ]
    },
    {
      "cell_type": "code",
      "execution_count": 10,
      "metadata": {},
      "outputs": [
        {
          "name": "stdout",
          "output_type": "stream",
          "text": [
            "[[0.25764755 0.30132431 0.43656663]\n",
            " [0.11830633 0.04509978 0.28460134]\n",
            " [0.42528815 0.52915667 0.87564711]]\n"
          ]
        }
      ],
      "source": [
        "arr = np.random.rand(3,3)\n",
        "print(arr)"
      ]
    },
    {
      "cell_type": "markdown",
      "metadata": {
        "id": "SpMvM_JOBGzH"
      },
      "source": [
        "# ***Operaciones***"
      ]
    },
    {
      "cell_type": "code",
      "execution_count": 11,
      "metadata": {
        "id": "YhI3Uby_BLDm"
      },
      "outputs": [
        {
          "name": "stdout",
          "output_type": "stream",
          "text": [
            "[5 7 9]\n"
          ]
        }
      ],
      "source": [
        "arr1=[1,2,3]\n",
        "arr2 = [4,5,6]\n",
        "arr3 = np.add(arr1,arr2) #suma\n",
        "\n",
        "print(arr3)"
      ]
    },
    {
      "cell_type": "code",
      "execution_count": 12,
      "metadata": {},
      "outputs": [
        {
          "name": "stdout",
          "output_type": "stream",
          "text": [
            "[3 3 3]\n"
          ]
        }
      ],
      "source": [
        "arr2 = [1,2,3]\n",
        "arr1 = [4,5,6]\n",
        "arr3 = np.subtract(arr1,arr2) #resta\n",
        "print(arr3)"
      ]
    },
    {
      "cell_type": "code",
      "execution_count": 13,
      "metadata": {},
      "outputs": [
        {
          "name": "stdout",
          "output_type": "stream",
          "text": [
            "[ 4 10 18]\n"
          ]
        }
      ],
      "source": [
        "arr1=[1,2,3]\n",
        "arr2 = [4,5,6]\n",
        "arr3 = np.multiply(arr1,arr2) #multiplicacion\n",
        "\n",
        "print(arr3)"
      ]
    },
    {
      "cell_type": "code",
      "execution_count": 14,
      "metadata": {},
      "outputs": [
        {
          "name": "stdout",
          "output_type": "stream",
          "text": [
            "[4.  2.5 2. ]\n"
          ]
        }
      ],
      "source": [
        "arr1=[1,2,3]\n",
        "arr2 = [4,5,6]\n",
        "arr3 = np.divide(arr2,arr1) #division\n",
        "\n",
        "print(arr3)"
      ]
    },
    {
      "cell_type": "markdown",
      "metadata": {},
      "source": [
        "# ***Agregacion***"
      ]
    },
    {
      "cell_type": "code",
      "execution_count": 15,
      "metadata": {},
      "outputs": [
        {
          "name": "stdout",
          "output_type": "stream",
          "text": [
            "4.333333333333333\n"
          ]
        }
      ],
      "source": [
        "arr = [1,5,7]\n",
        "media= np.mean(arr)\n",
        "print(media)"
      ]
    },
    {
      "cell_type": "code",
      "execution_count": 16,
      "metadata": {},
      "outputs": [
        {
          "name": "stdout",
          "output_type": "stream",
          "text": [
            "5.0\n"
          ]
        }
      ],
      "source": [
        "arr = [1,5,7]\n",
        "mediana = np.median(arr)\n",
        "print(mediana)"
      ]
    },
    {
      "cell_type": "code",
      "execution_count": 17,
      "metadata": {},
      "outputs": [
        {
          "name": "stdout",
          "output_type": "stream",
          "text": [
            "7\n"
          ]
        }
      ],
      "source": [
        "arr = [1,5,7]\n",
        "maximo = np.max(arr)\n",
        "print(maximo)"
      ]
    },
    {
      "cell_type": "code",
      "execution_count": 18,
      "metadata": {},
      "outputs": [
        {
          "name": "stdout",
          "output_type": "stream",
          "text": [
            "1\n"
          ]
        }
      ],
      "source": [
        "arr = [1,5,7]\n",
        "minimo = np.min(arr)\n",
        "print(minimo)"
      ]
    },
    {
      "cell_type": "markdown",
      "metadata": {
        "id": "xGQC2AGED184"
      },
      "source": [
        "# ***Indexación***"
      ]
    },
    {
      "cell_type": "code",
      "execution_count": 19,
      "metadata": {
        "id": "lQ7kpV8FD5u3"
      },
      "outputs": [
        {
          "name": "stdout",
          "output_type": "stream",
          "text": [
            "1\n"
          ]
        }
      ],
      "source": [
        "arr = np.array([1,2,3,4,5,6])\n",
        "print(arr[0])"
      ]
    },
    {
      "cell_type": "code",
      "execution_count": 20,
      "metadata": {},
      "outputs": [
        {
          "name": "stdout",
          "output_type": "stream",
          "text": [
            "6\n"
          ]
        }
      ],
      "source": [
        "arr = np.array([1,2,3,4,5,6])\n",
        "print(arr[-1]) #regresa ultimo elemento de la lista"
      ]
    },
    {
      "cell_type": "code",
      "execution_count": 21,
      "metadata": {},
      "outputs": [
        {
          "name": "stdout",
          "output_type": "stream",
          "text": [
            "6\n"
          ]
        }
      ],
      "source": [
        "arr = np.array(([1,2,3],[4,5,6]))\n",
        "print(arr[1,2])"
      ]
    },
    {
      "cell_type": "markdown",
      "metadata": {
        "id": "aB0G3XjhD8ff"
      },
      "source": [
        "# ***Slicing***"
      ]
    },
    {
      "cell_type": "code",
      "execution_count": 22,
      "metadata": {
        "id": "7iHQjGY9D-XF"
      },
      "outputs": [
        {
          "name": "stdout",
          "output_type": "stream",
          "text": [
            "[2 3 4]\n"
          ]
        }
      ],
      "source": [
        "arr = np.array([1,2,3,4,5,6])\n",
        "print(arr[1:4])"
      ]
    },
    {
      "cell_type": "code",
      "execution_count": 23,
      "metadata": {},
      "outputs": [
        {
          "name": "stdout",
          "output_type": "stream",
          "text": [
            "[2 4]\n"
          ]
        }
      ],
      "source": [
        "arr = np.array([1,2,3,4,5,6])\n",
        "print(arr[1:4:2])"
      ]
    },
    {
      "cell_type": "code",
      "execution_count": 24,
      "metadata": {},
      "outputs": [
        {
          "name": "stdout",
          "output_type": "stream",
          "text": [
            "[1 3 5]\n"
          ]
        }
      ],
      "source": [
        "arr = np.array([1,2,3,4,5,6])\n",
        "print(arr[::2])"
      ]
    },
    {
      "cell_type": "code",
      "execution_count": 25,
      "metadata": {},
      "outputs": [
        {
          "name": "stdout",
          "output_type": "stream",
          "text": [
            "hi\n"
          ]
        }
      ],
      "source": [
        "print(\"hi\")"
      ]
    }
  ],
  "metadata": {
    "colab": {
      "provenance": [],
      "toc_visible": true
    },
    "kernelspec": {
      "display_name": "Python 3",
      "name": "python3"
    },
    "language_info": {
      "codemirror_mode": {
        "name": "ipython",
        "version": 3
      },
      "file_extension": ".py",
      "mimetype": "text/x-python",
      "name": "python",
      "nbconvert_exporter": "python",
      "pygments_lexer": "ipython3",
      "version": "3.11.4"
    }
  },
  "nbformat": 4,
  "nbformat_minor": 0
}
