{
 "cells": [
  {
   "cell_type": "markdown",
   "metadata": {},
   "source": [
    "# Análisis Exploratorio de Datos con Enfoque en El Diario de Juarez"
   ]
  },
  {
   "cell_type": "markdown",
   "metadata": {},
   "source": [
    "## 1. Introducción"
   ]
  },
  {
   "cell_type": "markdown",
   "metadata": {},
   "source": [
    "1. El Diario de Juárez es un diario mexicano publicado en Ciudad Juárez, fundado por Osvaldo Rodríguez Borunda en 1976. Actualmente es el diario decano de Ciudad Juárez y el de mayor circulación en la ciudad y uno de los más importante del estado de Chihuahua.\n",
    "Se eligio la pagina de el diario de juarez ya que contiene informacion que cambia cada dia y cubre notas principalmente de a ciudad. se estuvo obteniendo la informacion a lo largo de varios dias y se guardo en un archivo csv\n",
    "2. Este análisis se enfocó en el listado de las notas periodisticas publicadas en el portal del diario de Juarez a lo largo de varios dias."
   ]
  },
  {
   "cell_type": "markdown",
   "metadata": {},
   "source": [
    "## 2. Exploracion de Datos"
   ]
  },
  {
   "cell_type": "code",
   "execution_count": 17,
   "metadata": {},
   "outputs": [
    {
     "name": "stdout",
     "output_type": "stream",
     "text": [
      "15-08-23\n"
     ]
    }
   ],
   "source": [
    "import requests\n",
    "from bs4 import BeautifulSoup\n",
    "\n",
    "def obtener_contenido_pagina(url):\n",
    "  response = requests.get(url)\n",
    "  return response.text\n",
    "\n",
    "def analizar_contenido_pagina(html):\n",
    "  return BeautifulSoup(html, 'html.parser')\n",
    "\n",
    "url = requests.get('https://diario.mx/')\n",
    "\n",
    "soup = BeautifulSoup(url.content, 'html.parser')\n",
    "\n",
    "titulos = []\n",
    "\n",
    "titulo_items = soup.find_all('h2',class_='titulo_2')\n",
    "\n",
    "titulo_items\n",
    "\n",
    "for item in titulo_items:\n",
    "  titulo=item.text.strip()\n",
    "  titulos.append(titulo)\n",
    "\n",
    "titulos\n",
    "\n",
    "lugares = []\n",
    "lugar_items = soup.find_all('small', class_='texto_3')\n",
    "\n",
    "lugar_items\n",
    "\n",
    "for item in lugar_items:\n",
    "  lugar=item.text.strip()\n",
    "  lugares.append(lugar)\n",
    "\n",
    "lugares\n",
    "\n",
    "notas = []\n",
    "resumen_notas = soup.find_all('p', class_='texto_2')\n",
    "\n",
    "resumen_notas\n",
    "\n",
    "for item in resumen_notas:\n",
    "  nota=item.text.strip()\n",
    "  notas.append(nota)\n",
    "\n",
    "notas\n",
    "\n",
    "data = []\n",
    "min_length = min(len(titulos), len(lugares), len(notas))\n",
    "\n",
    "for i in range(min_length):\n",
    "    data.append({\n",
    "        \"Título: \": titulos[i] if i < len(titulos) else None,\n",
    "        \"Lugares: \": lugares[i] if i < len(lugares) else None,\n",
    "        \"Noticia: \": notas[i] if i < len(notas) else None\n",
    "    })\n",
    "\n",
    "data\n",
    "\n",
    "def procesar_pagina(soup):\n",
    "  datos=[]\n",
    "\n",
    "def manejar_paginacion(url_base, num_paginas):\n",
    "    for i in range(1, num_paginas + 1):\n",
    "        url = url_base + '/page-' + str(i) + \".html\"  # Actualiza la URL base con el número de página actual\n",
    "        contenido_pagina = obtener_contenido_pagina(url)\n",
    "        soup = analizar_contenido_pagina(contenido_pagina)\n",
    "        #procesar_pagina(soup)\n",
    "\n",
    "url_base = \"https://diario.mx/\"\n",
    "num_paginas = 10\n",
    "manejar_paginacion(url_base, num_paginas)\n",
    "\n",
    "data\n",
    "\n",
    "len(data)\n",
    "\n",
    "import pandas as pd\n",
    "df = pd.DataFrame(data)\n",
    "\n",
    "df\n",
    "\n",
    "import datetime\n",
    "fecha_actual = datetime.datetime.now().strftime(\"%d-%m-%y\")\n",
    "\n",
    "print(fecha_actual)\n",
    "df.to_csv(f\"../registro.json\")\n",
    "\n",
    "import datetime\n",
    "fecha_actual = datetime.datetime.now().strftime(\"%d-%m-%y\")\n",
    "\n",
    "df.to_csv(f\"Diario de Juarez1-{fecha_actual}.csv\", index=True)"
   ]
  },
  {
   "cell_type": "code",
   "execution_count": 20,
   "metadata": {},
   "outputs": [
    {
     "name": "stdout",
     "output_type": "stream",
     "text": [
      "15-08-23\n"
     ]
    }
   ],
   "source": [
    "import datetime\n",
    "fecha_actual = datetime.datetime.now().strftime(\"%d-%m-%y\")\n",
    "\n",
    "print(fecha_actual)\n",
    "df.to_csv(f\"registro.json\")"
   ]
  },
  {
   "cell_type": "markdown",
   "metadata": {},
   "source": [
    "# Analisis Exploratorio"
   ]
  },
  {
   "cell_type": "code",
   "execution_count": 34,
   "metadata": {},
   "outputs": [
    {
     "data": {
      "text/html": [
       "<div>\n",
       "<style scoped>\n",
       "    .dataframe tbody tr th:only-of-type {\n",
       "        vertical-align: middle;\n",
       "    }\n",
       "\n",
       "    .dataframe tbody tr th {\n",
       "        vertical-align: top;\n",
       "    }\n",
       "\n",
       "    .dataframe thead th {\n",
       "        text-align: right;\n",
       "    }\n",
       "</style>\n",
       "<table border=\"1\" class=\"dataframe\">\n",
       "  <thead>\n",
       "    <tr style=\"text-align: right;\">\n",
       "      <th></th>\n",
       "      <th>Título:</th>\n",
       "      <th>Lugares:</th>\n",
       "      <th>Noticia:</th>\n",
       "    </tr>\n",
       "  </thead>\n",
       "  <tbody>\n",
       "    <tr>\n",
       "      <th>0</th>\n",
       "      <td>‘Dejé de sembrar por los costos de la CFE’</td>\n",
       "      <td>Estado</td>\n",
       "      <td>Hijo de agricultores en Buenaventura narra com...</td>\n",
       "    </tr>\n",
       "    <tr>\n",
       "      <th>1</th>\n",
       "      <td>Improcedentes juicios contra Corral y Fuentes ...</td>\n",
       "      <td>Estado</td>\n",
       "      <td>Comisión Jurisdiccional declara improcedencia ...</td>\n",
       "    </tr>\n",
       "    <tr>\n",
       "      <th>2</th>\n",
       "      <td>Ofrece presidenta del INE 'presupuesto austero...</td>\n",
       "      <td>Nacional</td>\n",
       "      <td>Por primera vez habrá elecciones concurrentes ...</td>\n",
       "    </tr>\n",
       "    <tr>\n",
       "      <th>3</th>\n",
       "      <td>Ley sobre mafiosos podría influir en cargos co...</td>\n",
       "      <td>Juárez</td>\n",
       "      <td>¡Es ahora o nunca! ¡Participa por los 17,5 mil...</td>\n",
       "    </tr>\n",
       "    <tr>\n",
       "      <th>4</th>\n",
       "      <td>Deja Creel presidencia de Cámara; lo releva pa...</td>\n",
       "      <td>Estado</td>\n",
       "      <td>Entre los mismos vecinos y para que deje de es...</td>\n",
       "    </tr>\n",
       "    <tr>\n",
       "      <th>5</th>\n",
       "      <td>Trump es encausado por intromisión en eleccion...</td>\n",
       "      <td>El Paso</td>\n",
       "      <td>El gobernador del estado afirma que se trata d...</td>\n",
       "    </tr>\n",
       "    <tr>\n",
       "      <th>6</th>\n",
       "      <td>Biden se encuentra en medio de disputa sindical</td>\n",
       "      <td>Juárez</td>\n",
       "      <td>Insta a la Suprema Corte a abolirla por su con...</td>\n",
       "    </tr>\n",
       "    <tr>\n",
       "      <th>7</th>\n",
       "      <td>También los narcos tienen su nearshoring</td>\n",
       "      <td>El Paso</td>\n",
       "      <td>Ya cuenta con registro formal en 10 entidades</td>\n",
       "    </tr>\n",
       "    <tr>\n",
       "      <th>8</th>\n",
       "      <td>Árbol caído deja sin luz a Cruz Roja</td>\n",
       "      <td>Juárez</td>\n",
       "      <td>Tribunal de Montana emite histórico fallo para...</td>\n",
       "    </tr>\n",
       "    <tr>\n",
       "      <th>9</th>\n",
       "      <td>Advierten intento de asfixiar presupuestalment...</td>\n",
       "      <td>Escaparate</td>\n",
       "      <td>El accidente se registró sobre el bulevar Zara...</td>\n",
       "    </tr>\n",
       "    <tr>\n",
       "      <th>10</th>\n",
       "      <td>Se registra incendio en predio baldío del Centro</td>\n",
       "      <td>Juárez</td>\n",
       "      <td>Reiteró que, si llega a la presidencia, abrirá...</td>\n",
       "    </tr>\n",
       "    <tr>\n",
       "      <th>11</th>\n",
       "      <td>Recogen 58 toneladas de basura tras Feria de S...</td>\n",
       "      <td>Nacional</td>\n",
       "      <td>Mencionaron que ya se habló a los bomberos, CF...</td>\n",
       "    </tr>\n",
       "    <tr>\n",
       "      <th>12</th>\n",
       "      <td>Identifican al que sembró terror en la Cincinn...</td>\n",
       "      <td>El Paso</td>\n",
       "      <td>Desconocidos abrieron fuego en repetidas ocasi...</td>\n",
       "    </tr>\n",
       "    <tr>\n",
       "      <th>13</th>\n",
       "      <td>Mujer embarazada choca contra máquina barredora</td>\n",
       "      <td>Estados Unidos</td>\n",
       "      <td>Los votantes dicen que desconfían de una repet...</td>\n",
       "    </tr>\n",
       "  </tbody>\n",
       "</table>\n",
       "</div>"
      ],
      "text/plain": [
       "                                             Título:        Lugares:   \\\n",
       "0          ‘Dejé de sembrar por los costos de la CFE’          Estado   \n",
       "1   Improcedentes juicios contra Corral y Fuentes ...          Estado   \n",
       "2   Ofrece presidenta del INE 'presupuesto austero...        Nacional   \n",
       "3   Ley sobre mafiosos podría influir en cargos co...          Juárez   \n",
       "4   Deja Creel presidencia de Cámara; lo releva pa...          Estado   \n",
       "5   Trump es encausado por intromisión en eleccion...         El Paso   \n",
       "6     Biden se encuentra en medio de disputa sindical          Juárez   \n",
       "7            También los narcos tienen su nearshoring         El Paso   \n",
       "8                Árbol caído deja sin luz a Cruz Roja          Juárez   \n",
       "9   Advierten intento de asfixiar presupuestalment...      Escaparate   \n",
       "10   Se registra incendio en predio baldío del Centro          Juárez   \n",
       "11  Recogen 58 toneladas de basura tras Feria de S...        Nacional   \n",
       "12  Identifican al que sembró terror en la Cincinn...         El Paso   \n",
       "13    Mujer embarazada choca contra máquina barredora  Estados Unidos   \n",
       "\n",
       "                                            Noticia:   \n",
       "0   Hijo de agricultores en Buenaventura narra com...  \n",
       "1   Comisión Jurisdiccional declara improcedencia ...  \n",
       "2   Por primera vez habrá elecciones concurrentes ...  \n",
       "3   ¡Es ahora o nunca! ¡Participa por los 17,5 mil...  \n",
       "4   Entre los mismos vecinos y para que deje de es...  \n",
       "5   El gobernador del estado afirma que se trata d...  \n",
       "6   Insta a la Suprema Corte a abolirla por su con...  \n",
       "7       Ya cuenta con registro formal en 10 entidades  \n",
       "8   Tribunal de Montana emite histórico fallo para...  \n",
       "9   El accidente se registró sobre el bulevar Zara...  \n",
       "10  Reiteró que, si llega a la presidencia, abrirá...  \n",
       "11  Mencionaron que ya se habló a los bomberos, CF...  \n",
       "12  Desconocidos abrieron fuego en repetidas ocasi...  \n",
       "13  Los votantes dicen que desconfían de una repet...  "
      ]
     },
     "execution_count": 34,
     "metadata": {},
     "output_type": "execute_result"
    }
   ],
   "source": [
    "df"
   ]
  },
  {
   "cell_type": "code",
   "execution_count": 27,
   "metadata": {},
   "outputs": [],
   "source": [
    "import matplotlib as plt\n",
    "import matplotlib.pyplot as plt\n",
    "import numpy as np"
   ]
  },
  {
   "cell_type": "code",
   "execution_count": 58,
   "metadata": {},
   "outputs": [],
   "source": [
    "for i in range(min_length):\n",
    "    data.append({\n",
    "        \"Título: \": titulos[i] if i < len(titulos) else None,\n",
    "        \"Lugares: \": lugares[i] if i < len(lugares) else None,\n",
    "        \"Noticia: \": notas[i] if i < len(notas) else None\n",
    "    })\n",
    "\n",
    "##elpaso=  data.list('El paso')"
   ]
  },
  {
   "cell_type": "code",
   "execution_count": 59,
   "metadata": {},
   "outputs": [
    {
     "name": "stdout",
     "output_type": "stream",
     "text": [
      "14\n"
     ]
    }
   ],
   "source": [
    "print(lugares[i])"
   ]
  },
  {
   "cell_type": "code",
   "execution_count": 55,
   "metadata": {},
   "outputs": [
    {
     "data": {
      "text/plain": [
       "[]"
      ]
     },
     "execution_count": 55,
     "metadata": {},
     "output_type": "execute_result"
    }
   ],
   "source": [
    "elpaso"
   ]
  },
  {
   "cell_type": "code",
   "execution_count": 44,
   "metadata": {},
   "outputs": [],
   "source": [
    "elpaso=(len(notas)==\"El Paso\")\n",
    "lugar = ['Juarez', 'El Paso', 'Nacional']\n",
    "cantidadnotas = np.random.randint(1, 20, size=len(notas))"
   ]
  },
  {
   "cell_type": "code",
   "execution_count": 53,
   "metadata": {},
   "outputs": [
    {
     "name": "stdout",
     "output_type": "stream",
     "text": [
      "14\n"
     ]
    }
   ],
   "source": [
    "print(len(notas))"
   ]
  },
  {
   "cell_type": "code",
   "execution_count": 47,
   "metadata": {},
   "outputs": [
    {
     "data": {
      "image/png": "[encoded data removed]",
      "text/plain": [
       "<Figure size 640x480 with 1 Axes>"
      ]
     },
     "metadata": {},
     "output_type": "display_data"
    }
   ],
   "source": [
    "plt.hist(elpaso, bins=20, edgecolor='black', alpha=0.7)\n",
    "\n",
    "plt.title('Noticias por lugar')\n",
    "plt.xlabel('El paso')\n",
    "plt.ylabel('Frecuencia')\n",
    "plt.show()"
   ]
  },
  {
   "cell_type": "markdown",
   "metadata": {},
   "source": [
    "## 3. Conclusiones"
   ]
  },
  {
   "cell_type": "markdown",
   "metadata": {},
   "source": [
    "El analisis exploratorio nos ayudo a conocer el contenido que aparca la pagina web del Diario de Juarez, en este caso las notas que nos arrojo fueron Locales, de El Paso y del Estado."
   ]
  }
 ],
 "metadata": {
  "kernelspec": {
   "display_name": ".venv",
   "language": "python",
   "name": "python3"
  },
  "language_info": {
   "codemirror_mode": {
    "name": "ipython",
    "version": 3
   },
   "file_extension": ".py",
   "mimetype": "text/x-python",
   "name": "python",
   "nbconvert_exporter": "python",
   "pygments_lexer": "ipython3",
   "version": "3.11.4"
  },
  "orig_nbformat": 4
 },
 "nbformat": 4,
 "nbformat_minor": 2
}
